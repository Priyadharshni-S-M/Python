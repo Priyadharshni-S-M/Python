{
 "cells": [
  {
   "cell_type": "code",
   "execution_count": 1,
   "id": "6b628b29",
   "metadata": {},
   "outputs": [
    {
     "name": "stdout",
     "output_type": "stream",
     "text": [
      "The 2 elements whose sum is closest to zero are 34 and -38\n"
     ]
    }
   ],
   "source": [
    "arr = [-50, 34, -19, 24, 33, 10, -46, -38]\n",
    "n = len(arr)\n",
    "\n",
    "#Check the size of the list, should have atleast 2 for finding sum\n",
    "if n < 2:\n",
    "    print(\"List should have atleast 2 elements to find sum\")\n",
    "else:\n",
    "    \n",
    "#   Assign the initial 2 index values and calculate the minimum sum using the first 2 values  \n",
    "    index1 = 0\n",
    "    index2 = 1\n",
    "    minSum = arr[0] + arr[1]\n",
    "    \n",
    "#   Loop through the array and calculate the sum. Take every element and calculate the sum with all other corresponding \n",
    "#   elements. If the sum is less than the minimum sum calculated then assign sum to minSum and assign the index values.\n",
    "    for i in range(0,n):\n",
    "        for j in range(i+1,n):\n",
    "            sum = arr[i] + arr[j]\n",
    "            if abs(sum) < abs(minSum):\n",
    "                minSum = sum\n",
    "                index1 = i\n",
    "                index2 = j\n",
    "    print(\"The 2 elements whose sum is closest to zero are\", arr[index1], \"and\", arr[index2])"
   ]
  },
  {
   "cell_type": "code",
   "execution_count": 10,
   "id": "2b272eb2",
   "metadata": {},
   "outputs": [
    {
     "name": "stdout",
     "output_type": "stream",
     "text": [
      "The 2 elements whose sum is closest to zero are -5 and 6\n"
     ]
    }
   ],
   "source": [
    "arr = [-4, 7, 6, 2, -5]\n",
    "n = len(arr)\n",
    "\n",
    "if n < 2:\n",
    "    print(\"List should have atleast 2 elements to find sum\")\n",
    "else:\n",
    "    sum = 0\n",
    "    minSum = 10**9\n",
    "    l = 0\n",
    "    r = n-1\n",
    "    index1 = 0\n",
    "    index2 = n-1\n",
    "    \n",
    "    sorted_arr = sorted(arr)\n",
    "#     print(sorted_arr)\n",
    "    \n",
    "    while (l < r):\n",
    "        sum = sorted_arr[l] + sorted_arr[r]\n",
    "        if abs(sum) < abs(minSum):\n",
    "            minSum = sum\n",
    "            index1 = l\n",
    "            index2 = r\n",
    "        if sum < 0:\n",
    "            l += 1\n",
    "        else:\n",
    "            r -= 1\n",
    "    \n",
    "    print(\"The 2 elements whose sum is closest to zero are\", sorted_arr[index1], \"and\", sorted_arr[index2])"
   ]
  },
  {
   "cell_type": "code",
   "execution_count": null,
   "id": "c84f3bba",
   "metadata": {},
   "outputs": [],
   "source": []
  }
 ],
 "metadata": {
  "kernelspec": {
   "display_name": "Python 3 (ipykernel)",
   "language": "python",
   "name": "python3"
  },
  "language_info": {
   "codemirror_mode": {
    "name": "ipython",
    "version": 3
   },
   "file_extension": ".py",
   "mimetype": "text/x-python",
   "name": "python",
   "nbconvert_exporter": "python",
   "pygments_lexer": "ipython3",
   "version": "3.9.7"
  }
 },
 "nbformat": 4,
 "nbformat_minor": 5
}
